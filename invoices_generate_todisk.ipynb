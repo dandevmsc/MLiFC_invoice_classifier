{
 "cells": [
  {
   "cell_type": "markdown",
   "metadata": {
    "colab": {
     "autoexec": {
      "startup": false,
      "wait_interval": 0
     }
    },
    "colab_type": "code",
    "id": "vPwoeWxK6D15"
   },
   "source": [
    "# code for generating and saving invoices\n",
    "along with corresponding target arrays and truth values\n",
    "\n",
    "\n",
    "This is the second version that still holds \"nested csv's as serialized strings\", but now we know how to eval() those into the original objects again later...."
   ]
  },
  {
   "cell_type": "code",
   "execution_count": 61,
   "metadata": {
    "colab": {
     "autoexec": {
      "startup": false,
      "wait_interval": 0
     },
     "base_uri": "https://localhost:8080/",
     "height": 219,
     "output_extras": [
      {
       "item_id": 2
      }
     ]
    },
    "colab_type": "code",
    "executionInfo": {
     "elapsed": 1520,
     "status": "ok",
     "timestamp": 1521101941642,
     "user": {
      "displayName": "rik",
      "photoUrl": "//lh6.googleusercontent.com/-ZGIi-vN4KMU/AAAAAAAAAAI/AAAAAAAAAFk/Ki-nNio6VVM/s50-c-k-no/photo.jpg",
      "userId": "113719912521762461555"
     },
     "user_tz": -60
    },
    "id": "J_mZzOVTJT6D",
    "outputId": "ea9992be-fd1c-4035-bd81-4a792c1837b5"
   },
   "outputs": [],
   "source": [
    "# rmember to git pull the latest templates from \n",
    "# https://github.com/riklmr/MLiFC_invoice_classifier\n",
    "# if you have not already (where else did this notebook come from?)"
   ]
  },
  {
   "cell_type": "code",
   "execution_count": 62,
   "metadata": {
    "colab": {
     "autoexec": {
      "startup": false,
      "wait_interval": 0
     },
     "base_uri": "https://localhost:8080/",
     "height": 54,
     "output_extras": [
      {
       "item_id": 1
      }
     ]
    },
    "colab_type": "code",
    "executionInfo": {
     "elapsed": 1268,
     "status": "ok",
     "timestamp": 1521101962838,
     "user": {
      "displayName": "rik",
      "photoUrl": "//lh6.googleusercontent.com/-ZGIi-vN4KMU/AAAAAAAAAAI/AAAAAAAAAFk/Ki-nNio6VVM/s50-c-k-no/photo.jpg",
      "userId": "113719912521762461555"
     },
     "user_tz": -60
    },
    "id": "_DnStomIJjRk",
    "outputId": "fdad2f50-c4af-4bf1-c124-50f1f702f204"
   },
   "outputs": [
    {
     "name": "stdout",
     "output_type": "stream",
     "text": [
      "Baseline Ortec.ipynb\t\t\t   README.md\r\n",
      "invoice_from_disk_sample_code.ipynb\t   RegExDragon.ipynb\r\n",
      "invoices_train.zipNOT\t\t\t   templates\r\n",
      "Jannes_Baseline_Invoices_ToFromDisk.ipynb  train\r\n",
      "Jannes_Baseline_Ortec.ipynb\t\t   Wk6_Ortec_IBAN_generation.ipynb\r\n",
      "LICENSE\r\n"
     ]
    }
   ],
   "source": [
    "!ls"
   ]
  },
  {
   "cell_type": "raw",
   "metadata": {
    "colab": {
     "autoexec": {
      "startup": false,
      "wait_interval": 0
     },
     "base_uri": "https://localhost:8080/",
     "height": 2083,
     "output_extras": [
      {
       "item_id": 1
      }
     ]
    },
    "colab_type": "code",
    "executionInfo": {
     "elapsed": 1271,
     "status": "ok",
     "timestamp": 1521101970669,
     "user": {
      "displayName": "rik",
      "photoUrl": "//lh6.googleusercontent.com/-ZGIi-vN4KMU/AAAAAAAAAAI/AAAAAAAAAFk/Ki-nNio6VVM/s50-c-k-no/photo.jpg",
      "userId": "113719912521762461555"
     },
     "user_tz": -60
    },
    "id": "vOyKxSEhdcy4",
    "outputId": "23dcfb69-2679-4c22-ca33-5a50519a9674"
   },
   "source": [
    " !cat templates/TEMPLATE_18.txt"
   ]
  },
  {
   "cell_type": "code",
   "execution_count": 51,
   "metadata": {},
   "outputs": [],
   "source": [
    "# this trick allows you to change underlying libraries on the fly\n",
    "\n",
    "%reload_ext autoreload\n",
    "%autoreload 2   # The 2 is important Rik!\n"
   ]
  },
  {
   "cell_type": "code",
   "execution_count": 52,
   "metadata": {
    "colab": {
     "autoexec": {
      "startup": false,
      "wait_interval": 0
     },
     "base_uri": "https://localhost:8080/",
     "height": 54,
     "output_extras": [
      {
       "item_id": 1
      }
     ]
    },
    "colab_type": "code",
    "executionInfo": {
     "elapsed": 2119,
     "status": "ok",
     "timestamp": 1521101993685,
     "user": {
      "displayName": "rik",
      "photoUrl": "//lh6.googleusercontent.com/-ZGIi-vN4KMU/AAAAAAAAAAI/AAAAAAAAAFk/Ki-nNio6VVM/s50-c-k-no/photo.jpg",
      "userId": "113719912521762461555"
     },
     "user_tz": -60
    },
    "id": "U80fgzU4JAQg",
    "outputId": "b5fc7289-8107-4d16-b1db-0a921e3fe9e4"
   },
   "outputs": [],
   "source": [
    "import templates.invoicegen\n",
    "\n",
    "import numpy as np\n",
    "import pandas as pd\n",
    "import glob\n",
    "# import uuid\n"
   ]
  },
  {
   "cell_type": "code",
   "execution_count": 53,
   "metadata": {
    "colab": {
     "autoexec": {
      "startup": false,
      "wait_interval": 0
     }
    },
    "colab_type": "code",
    "id": "Mq9VfteLJAQZ"
   },
   "outputs": [],
   "source": [
    "'''\n",
    "Ignore:           0\n",
    "Sender Name:      1 \n",
    "Sender KVK:       2 \n",
    "Sender IBAN:      3 \n",
    "Invoice Reference:4\n",
    "Total:            5\n",
    "'''\n",
    "\n",
    "train_dir = \"train/\"\n",
    "! mkdir -p {train_dir}\n"
   ]
  },
  {
   "cell_type": "code",
   "execution_count": 55,
   "metadata": {
    "colab": {
     "autoexec": {
      "startup": false,
      "wait_interval": 0
     }
    },
    "colab_type": "code",
    "id": "h8AtNKmOJAQn"
   },
   "outputs": [
    {
     "name": "stdout",
     "output_type": "stream",
     "text": [
      "Creating 4761 invoices times 21 templates = 99981 in total\n",
      "Saving in directory train/ ...\n",
      "from template ./templates/TEMPLATE_1.txt\n",
      "from template ./templates/TEMPLATE_10.txt\n",
      "from template ./templates/TEMPLATE_8.txt\n",
      "from template ./templates/TEMPLATE_2.txt\n",
      "from template ./templates/TEMPLATE_9.txt\n",
      "from template ./templates/TEMPLATE_20.txt\n",
      "from template ./templates/TEMPLATE_4.txt\n",
      "from template ./templates/TEMPLATE_18.txt\n",
      "from template ./templates/TEMPLATE_17.txt\n",
      "from template ./templates/TEMPLATE_11.txt\n",
      "from template ./templates/TEMPLATE_5.txt\n",
      "from template ./templates/TEMPLATE_7.txt\n",
      "from template ./templates/TEMPLATE_14.txt\n",
      "from template ./templates/TEMPLATE_13.txt\n",
      "from template ./templates/TEMPLATE_19.txt\n",
      "from template ./templates/TEMPLATE_12.txt\n",
      "from template ./templates/TEMPLATE_3.txt\n",
      "from template ./templates/TEMPLATE_16.txt\n",
      "from template ./templates/TEMPLATE_21.txt\n",
      "from template ./templates/TEMPLATE_6.txt\n",
      "from template ./templates/TEMPLATE_15.txt\n"
     ]
    }
   ],
   "source": [
    "# Create plenty of invoices for each template\n",
    "templates_all = glob.glob(\"./templates/TEMPLATE_*.txt\")\n",
    "num_templates = len(templates_all)\n",
    "PLENTY = 100000 // num_templates\n",
    "print(\"Creating {} invoices times {} templates = {} in total\".format(PLENTY, num_templates, PLENTY * num_templates))\n",
    "print(\"Saving in directory {} ...\".format(train_dir))\n",
    "\n",
    "for txtname in templates_all:\n",
    "    print(\"from template {}\".format(txtname))\n",
    "    with open(txtname, \"r\") as content_file:\n",
    "        content = content_file.read()\n",
    "        # Create invoices from template\n",
    "        for i in range(PLENTY):\n",
    "            # create_content() returns [invoice, target, truth]\n",
    "            # invoice is string\n",
    "            # target is array of classlabels per char in invoice\n",
    "            # truth is array [uuid, SenderName, SenderKVK, SenderIBAN, Reference, Total]\n",
    "            invoice, target, truth = templates.invoicegen.create_invoice(content)\n",
    "\n",
    "            mysample = pd.DataFrame(columns = ['invoice', 'target', 'truth'])\n",
    "            mysample.loc[0, 'invoice'] = invoice       # invoice already is a string\n",
    "            mysample.loc[0, 'target']  = str(target)   # serialize array here\n",
    "            mysample.loc[0, 'truth']   = str(truth)    # serialize array here\n",
    "\n",
    "            uuid = truth[0]\n",
    "            fname = train_dir + uuid + '.csv'\n",
    "            # print(\"saving {} ...\".format(fname))\n",
    "            mysample.to_csv(fname, index=False)\n",
    "        #\n",
    "    #\n",
    "#\n",
    "print{\"done\"}\n"
   ]
  },
  {
   "cell_type": "code",
   "execution_count": null,
   "metadata": {},
   "outputs": [],
   "source": []
  },
  {
   "cell_type": "code",
   "execution_count": null,
   "metadata": {},
   "outputs": [],
   "source": []
  },
  {
   "cell_type": "code",
   "execution_count": null,
   "metadata": {},
   "outputs": [],
   "source": []
  },
  {
   "cell_type": "code",
   "execution_count": 56,
   "metadata": {
    "colab": {
     "autoexec": {
      "startup": false,
      "wait_interval": 0
     },
     "base_uri": "https://localhost:8080/",
     "height": 70,
     "output_extras": [
      {
       "item_id": 2
      }
     ]
    },
    "colab_type": "code",
    "executionInfo": {
     "elapsed": 2251,
     "status": "ok",
     "timestamp": 1521102374061,
     "user": {
      "displayName": "rik",
      "photoUrl": "//lh6.googleusercontent.com/-ZGIi-vN4KMU/AAAAAAAAAAI/AAAAAAAAAFk/Ki-nNio6VVM/s50-c-k-no/photo.jpg",
      "userId": "113719912521762461555"
     },
     "user_tz": -60
    },
    "id": "h2TNqV5HM8gg",
    "outputId": "c91e9d04-02b4-44d1-b8a1-18ca508283b8"
   },
   "outputs": [
    {
     "name": "stdout",
     "output_type": "stream",
     "text": [
      "726M\ttrain/\r\n"
     ]
    }
   ],
   "source": [
    "# ! rm -r {train_dir}\n",
    "! du -sh {train_dir}"
   ]
  },
  {
   "cell_type": "raw",
   "metadata": {},
   "source": [
    "The .zipNOT trick is important if your local machine (imac/safari) has the habit of extracting zipfiles directly upon downloading.\n",
    "Remember to rename the file before/after."
   ]
  },
  {
   "cell_type": "code",
   "execution_count": null,
   "metadata": {
    "colab": {
     "autoexec": {
      "startup": false,
      "wait_interval": 0
     },
     "base_uri": "https://localhost:8080/",
     "height": 54,
     "output_extras": [
      {
       "item_id": 1
      }
     ]
    },
    "colab_type": "code",
    "executionInfo": {
     "elapsed": 485,
     "status": "ok",
     "timestamp": 1521105597785,
     "user": {
      "displayName": "rik",
      "photoUrl": "//lh6.googleusercontent.com/-ZGIi-vN4KMU/AAAAAAAAAAI/AAAAAAAAAFk/Ki-nNio6VVM/s50-c-k-no/photo.jpg",
      "userId": "113719912521762461555"
     },
     "user_tz": -60
    },
    "id": "LFZ1GA8o4zUS",
    "outputId": "c7581359-580b-4f3c-c3b6-a8ad127a53d9"
   },
   "outputs": [],
   "source": [
    "! zip -qr invoices_train.zipNOT ./train"
   ]
  },
  {
   "cell_type": "code",
   "execution_count": 60,
   "metadata": {
    "colab": {
     "autoexec": {
      "startup": false,
      "wait_interval": 0
     }
    },
    "colab_type": "code",
    "id": "KhQJwI-ww3DH"
   },
   "outputs": [
    {
     "name": "stdout",
     "output_type": "stream",
     "text": [
      "-rw-rw-r-- 1 paperspace paperspace 118096904 Mar 16 09:47 invoices_train.zipNOT\r\n"
     ]
    }
   ],
   "source": [
    "! ls -l invoices_train*"
   ]
  },
  {
   "cell_type": "code",
   "execution_count": null,
   "metadata": {},
   "outputs": [],
   "source": []
  },
  {
   "cell_type": "code",
   "execution_count": null,
   "metadata": {},
   "outputs": [],
   "source": []
  },
  {
   "cell_type": "code",
   "execution_count": null,
   "metadata": {},
   "outputs": [],
   "source": []
  },
  {
   "cell_type": "code",
   "execution_count": null,
   "metadata": {},
   "outputs": [],
   "source": []
  },
  {
   "cell_type": "code",
   "execution_count": null,
   "metadata": {},
   "outputs": [],
   "source": []
  },
  {
   "cell_type": "code",
   "execution_count": null,
   "metadata": {},
   "outputs": [],
   "source": []
  }
 ],
 "metadata": {
  "colab": {
   "collapsed_sections": [],
   "default_view": {},
   "name": "Jannes_Baseline_Invoices_ToFromDisk.ipynb",
   "provenance": [
    {
     "file_id": "1wjtiXpxRkuN5V57GiK_RSPxy84cFbERO",
     "timestamp": 1520877467293
    }
   ],
   "version": "0.3.2",
   "views": {}
  },
  "kernelspec": {
   "display_name": "Python 3",
   "language": "python",
   "name": "python3"
  },
  "language_info": {
   "codemirror_mode": {
    "name": "ipython",
    "version": 3
   },
   "file_extension": ".py",
   "mimetype": "text/x-python",
   "name": "python",
   "nbconvert_exporter": "python",
   "pygments_lexer": "ipython3",
   "version": "3.6.4"
  }
 },
 "nbformat": 4,
 "nbformat_minor": 1
}
