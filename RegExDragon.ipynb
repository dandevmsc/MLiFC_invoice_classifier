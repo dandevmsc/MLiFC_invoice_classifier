{
  "cells": [
    {
      "cell_type": "markdown",
      "source": [
        "# Regex Extractor\n",
        "\n",
        "## TODO\n",
        "1. define regexes\n",
        "  - IBAN\n",
        "  - KvK\n",
        "  - Amount\n",
        "  - Name\n",
        "  - Invoice reference\n",
        "  - Total\n",
        "2. take input\n",
        "3. match with regex\n",
        "4. get results\n",
        "5. package them as per Rick's specifications"
      ],
      "metadata": {
        "id": "kBDbyYdhmC_q",
        "colab_type": "text"
      }
    },
    {
      "cell_type": "markdown",
      "source": [
        "### REGEXES\n",
        "\n",
        "- Iban: \"[a-zA-Z]{2}[0-9]{2}[a-zA-Z0-9]{4}[0-9]{7}([a-zA-Z0-9]?){0,16}\"\n",
        "- KVK: \"\"\n",
        "- Date: \"\"\n",
        "- Amount: \"^(€|$)?\\s?(\\d{1,10})(\\.|\\,)(\\d{2})(€|$)?$\"\n",
        "- Name: \"\"\n",
        "- Invoice reference: \"\"\n",
        "- Total: \"\""
      ],
      "metadata": {
        "id": "KMf-ow_4mous",
        "colab_type": "text"
      }
    },
    {
      "cell_type": "markdown",
      "source": [
        "## Setup"
      ],
      "metadata": {
        "id": "MfloeM3Pm5NY",
        "colab_type": "text"
      }
    },
    {
      "cell_type": "code",
      "source": [
        "import re\n",
        "import os\n",
        "import glob"
      ],
      "outputs": [],
      "execution_count": 2,
      "metadata": {
        "id": "-FU8gYYglwhc",
        "colab_type": "code",
        "colab": {
          "autoexec": {
            "startup": false,
            "wait_interval": 0
          }
        }
      }
    },
    {
      "cell_type": "markdown",
      "source": [
        "## define regexes"
      ],
      "metadata": {
        "id": "GLFO-cdCm0Gu",
        "colab_type": "text"
      }
    },
    {
      "cell_type": "code",
      "source": [
        "# Works\n",
        "IbanRegex = re.compile(r'[a-zA-Z]{2}[0-9]{2}[a-zA-Z0-9]{4}[0-9]{7}([a-zA-Z0-9]?){0,16}')\n",
        "\n",
        "# Takes 4 different numbers from an example input file\n",
        "KvKRegex = re.compile(r'\\d{8}')\n",
        "\n",
        "# Works\n",
        "AmountRegex = re.compile(r'[€|$]\\s?\\d{1,10}[\\.|\\,]\\d{2}')\n",
        "\n",
        "# Pulls out 4 different files \n",
        "ReferenceRegex = re.compile(r'[A-Z-0-9]{8}')\n",
        "\n",
        "# \n",
        "NameRegex = re.compile(r'[a-zA-Z]{12}?\\s?([a-zA-Z]{12})')\n"
      ],
      "outputs": [],
      "execution_count": 7,
      "metadata": {
        "id": "L4YGoRavm0v4",
        "colab_type": "code",
        "colab": {
          "autoexec": {
            "startup": false,
            "wait_interval": 0
          }
        }
      }
    },
    {
      "cell_type": "markdown",
      "source": [
        "## definitions"
      ],
      "metadata": {
        "id": "8VOfm1E1tVl4",
        "colab_type": "text"
      }
    },
    {
      "cell_type": "code",
      "source": [
        "outputData = []\n",
        "\n",
        "def importer(filename):\n",
        "  invoice = open(filename, 'r')\n",
        " \n",
        "def IbanMatcher(invoice):\n",
        "  IbanRegex = re.compile(r'[A-Z]{2}\\d\\d\\s?[A-Z0-9]{4}[0-9]{8,20}')\n",
        "  IbanMatcher.result = IbanRegex.findall(invoice)\n",
        "  outputData.append({'IBAN':IbanMatcher.result})\n",
        "    \n",
        "def KvKMatcher(invoice):\n",
        "  KvKRegex = re.compile(r'[0-9]{8}')\n",
        "  KvKMatcher.result = KvKRegex.findall(invoice)  \n",
        "  outputData.append({'KvK_Nummer':KvKMatcher.result})\n",
        "\n",
        "def AmountMatcher(invoice):\n",
        "  AmountRegex = re.compile(r'(TE BETALEN\\n\\nâ‚¬\\s)(\\d{1,10}\\.\\d\\d'))\n",
        "  AmountMatcher.result = AmountRegex.findall(invoice)\n",
        "  outputData.append({'amounts':AmountMatcher.result})\n",
        "  "
      ],
      "outputs": [
        {
          "output_type": "error",
          "ename": "SyntaxError",
          "evalue": "invalid syntax (<ipython-input-39-105aae15e332>, line 17)",
          "traceback": [
            "\u001b[1;36m  File \u001b[1;32m\"<ipython-input-39-105aae15e332>\"\u001b[1;36m, line \u001b[1;32m17\u001b[0m\n\u001b[1;33m    AmountRegex = re.compile(r'(TE BETALEN\\n\\nâ‚¬\\s)(\\d{1,10}\\.\\d\\d'))\u001b[0m\n\u001b[1;37m                                                                     ^\u001b[0m\n\u001b[1;31mSyntaxError\u001b[0m\u001b[1;31m:\u001b[0m invalid syntax\n"
          ]
        }
      ],
      "execution_count": 39,
      "metadata": {
        "id": "OfYCg71Q1GUA",
        "colab_type": "code",
        "colab": {
          "autoexec": {
            "startup": false,
            "wait_interval": 0
          }
        },
        "cellView": "both"
      }
    },
    {
      "cell_type": "markdown",
      "source": [
        "## run"
      ],
      "metadata": {}
    },
    {
      "cell_type": "code",
      "source": [
        "file = open('Output.txt', 'r')\n",
        "invoice = file.read()\n",
        "IbanMatcher(invoice)\n",
        "KvKMatcher(invoice)\n",
        "AmountMatcher(invoice)"
      ],
      "outputs": [],
      "execution_count": 36,
      "metadata": {}
    },
    {
      "cell_type": "markdown",
      "source": [
        "## make tuple"
      ],
      "metadata": {
        "collapsed": false,
        "outputHidden": false,
        "inputHidden": false
      }
    },
    {
      "cell_type": "code",
      "source": [
        "print(invoice)"
      ],
      "outputs": [
        {
          "output_type": "stream",
          "name": "stdout",
          "text": [
            "f-torec%\n",
            "Aan:\n",
            "\n",
            "Unilever Nederland\n",
            "Nassaukade 5\n",
            "3071JL 3071JL\n",
            "\n",
            "Amazon NL International Holdings B.V.\n",
            "Johanna Westerdijkplein 1\n",
            "KvK nr:\n",
            "\n",
            "2521EN s-Gravenhage\n",
            "\n",
            "BTW nr:\n",
            "\n",
            "Bank:\n",
            "BAN:\n",
            "BIC:\n",
            "Tel:\n",
            "E-mail:\n",
            "Website:\n",
            "\n",
            "Factuur\n",
            "\n",
            "24269393\n",
            "000019267231\n",
            "ING NETHERLANDS\n",
            "NL02INGB0681309748\n",
            "INGBNL2A\n",
            "06-88163931\n",
            "info@unilever.com\n",
            "https://www.unilever.com\n",
            "\n",
            "Factuurnummer\n",
            "\n",
            "Factuurdatum\n",
            "\n",
            "Uw referentie\n",
            "\n",
            "DHQ7GOCICU\n",
            "\n",
            "17/11/2009\n",
            "\n",
            "MFQXG\n",
            "\n",
            "DATUM\n",
            "\n",
            "AANTAL\n",
            "\n",
            "PRIJS\n",
            "\n",
            "BTW\n",
            "\n",
            "SUBTOTAAL\n",
            "\n",
            "OMSCHRIJVING\n",
            "\n",
            "Fengbao 2PCS Kitchen Sink Strainer - Stainless Steel\n",
            "\n",
            "1.00\n",
            "\n",
            "â‚¬ 466.67\n",
            "\n",
            "â‚¬ 56.00\n",
            "\n",
            "â‚¬ 466.67\n",
            "\n\n",
            "23andMe DNA Test\n",
            "\n",
            "8.00\n",
            "\n",
            "â‚¬ 985.18\n",
            "\n",
            "â‚¬ 945.77\n",
            "\n",
            "â‚¬ 7881.45\n",
            "\n\n",
            "Cucisina Lemon Squeezer\n",
            "\n",
            "5.00\n",
            "\n",
            "â‚¬ 403.52\n",
            "\n",
            "â‚¬ 242.11\n",
            "\n",
            "â‚¬ 2017.60\n",
            "\n\n",
            "Water\n",
            "\n",
            "8.00\n",
            "\n",
            "â‚¬ 356.58\n",
            "\n",
            "â‚¬ 342.32\n",
            "\n",
            "â‚¬ 2852.65\n",
            "\n",
            "TOTAAL EXCL. BTW\n",
            "\n",
            "â‚¬ 13218.37\n",
            "BTW%\n",
            "\n",
            "OVER\n",
            "\n",
            "BEDRAG\n",
            "\n",
            "-\n",
            "\n",
            "-\n",
            "\n\n",
            "TOTAAL BTW\n",
            "\n",
            "â‚¬ 1586.20\n",
            "TE BETALEN\n",
            "\n",
            "â‚¬ 14804.57\n",
            "\n",
            "Opmerkingen & Voorwaarden\n",
            "<CONDITIONS>\n",
            "\n",
            "\f\n"
          ]
        }
      ],
      "execution_count": 37,
      "metadata": {
        "collapsed": false,
        "outputHidden": false,
        "inputHidden": false
      }
    },
    {
      "cell_type": "code",
      "source": [
        "print(outputData)"
      ],
      "outputs": [
        {
          "output_type": "stream",
          "name": "stdout",
          "text": [
            "[{'IBAN': ['NL02INGB0681309748']}, {'KvK_Nummer': ['24269393', '00001926', '06813097', '88163931']}, {'amounts': ['TE BETALEN\\n\\nâ‚¬ 14804.57']}]\n"
          ]
        }
      ],
      "execution_count": 38,
      "metadata": {
        "collapsed": false,
        "outputHidden": false,
        "inputHidden": false
      }
    }
  ],
  "metadata": {
    "colab": {
      "name": "RegExDragon.ipynb",
      "version": "0.3.2",
      "views": {},
      "default_view": {},
      "provenance": [],
      "collapsed_sections": [],
      "toc_visible": true
    },
    "kernelspec": {
      "name": "python3",
      "language": "python",
      "display_name": "Python 3"
    },
    "kernel_info": {
      "name": "python3"
    },
    "language_info": {
      "name": "python",
      "version": "3.6.3",
      "mimetype": "text/x-python",
      "codemirror_mode": {
        "name": "ipython",
        "version": 3
      },
      "pygments_lexer": "ipython3",
      "nbconvert_exporter": "python",
      "file_extension": ".py"
    },
    "nteract": {
      "version": "0.8.3"
    }
  },
  "nbformat": 4,
  "nbformat_minor": 0
}